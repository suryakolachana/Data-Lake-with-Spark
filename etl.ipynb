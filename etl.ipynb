{
 "cells": [
  {
   "cell_type": "code",
   "execution_count": 2,
   "metadata": {},
   "outputs": [],
   "source": [
    "import configparser\n",
    "from datetime import datetime\n",
    "import os\n",
    "from pyspark.sql import SparkSession\n",
    "from pyspark.sql.functions import *\n",
    "from pyspark.sql.functions import udf, col\n",
    "from pyspark.sql.functions import udf,to_timestamp,hour,dayofmonth,weekofyear,month,year,dayofweek,date_format,row_number\n",
    "from pyspark.sql import Window\n",
    "import datetime"
   ]
  },
  {
   "cell_type": "code",
   "execution_count": 3,
   "metadata": {},
   "outputs": [],
   "source": [
    "config = configparser.ConfigParser()\n",
    "config.read('dl.cfg')\n",
    "\n",
    "os.environ['AWS_ACCESS_KEY_ID']=config['AWS']['AWS_ACCESS_KEY_ID']\n",
    "os.environ['AWS_SECRET_ACCESS_KEY']=config['AWS']['AWS_SECRET_ACCESS_KEY']"
   ]
  },
  {
   "cell_type": "code",
   "execution_count": 4,
   "metadata": {},
   "outputs": [],
   "source": [
    "    spark = SparkSession \\\n",
    "        .builder \\\n",
    "        .config(\"spark.jars.packages\", \"org.apache.hadoop:hadoop-aws:2.7.0\") \\\n",
    "        .getOrCreate()"
   ]
  },
  {
   "cell_type": "code",
   "execution_count": 5,
   "metadata": {},
   "outputs": [],
   "source": [
    "import zipfile\n",
    "zf1 = zipfile.ZipFile(\"data/song-data.zip\",'r')\n",
    "zf1.extractall(\"data/song-data/\")\n",
    "zf2 = zipfile.ZipFile(\"data/log-data.zip\",'r')\n",
    "zf2.extractall(\"data/log-data/\")\n",
    "song_df = spark.read.json(\"data/song-data-json/song_data/*/*/*/*\")\n",
    "log_df = spark.read.json(\"data/log-data-json/\")"
   ]
  },
  {
   "cell_type": "code",
   "execution_count": 6,
   "metadata": {},
   "outputs": [],
   "source": [
    "filcols = [\"song_id\", \"title\", \"artist_id\", \"year\", \"duration\"]"
   ]
  },
  {
   "cell_type": "code",
   "execution_count": 7,
   "metadata": {},
   "outputs": [],
   "source": [
    "songs_table = song_df[filcols]"
   ]
  },
  {
   "cell_type": "code",
   "execution_count": null,
   "metadata": {},
   "outputs": [],
   "source": [
    "songs_table.createOrReplaceTempView(\"songs\")"
   ]
  },
  {
   "cell_type": "code",
   "execution_count": null,
   "metadata": {},
   "outputs": [],
   "source": [
    "songs_table = songs_table.write.partitionBy(\"year\",\"artist_id\").parquet(\"spark-warehouse/songs/\")"
   ]
  },
  {
   "cell_type": "code",
   "execution_count": 8,
   "metadata": {},
   "outputs": [],
   "source": [
    "filartistcols = [\"artist_id\",\"artist_name\",\"artist_location\",\"artist_latitude\",\"artist_longitude\"]"
   ]
  },
  {
   "cell_type": "code",
   "execution_count": 9,
   "metadata": {},
   "outputs": [],
   "source": [
    "artists_table = song_df[filartistcols].dropDuplicates()"
   ]
  },
  {
   "cell_type": "code",
   "execution_count": 10,
   "metadata": {},
   "outputs": [],
   "source": [
    "artists_table.createOrReplaceTempView('artists')"
   ]
  },
  {
   "cell_type": "code",
   "execution_count": null,
   "metadata": {},
   "outputs": [],
   "source": [
    "artists_table = artists_table.write.parquet(\"spark-warehouse/artists/\")"
   ]
  },
  {
   "cell_type": "code",
   "execution_count": 11,
   "metadata": {},
   "outputs": [],
   "source": [
    "log_df = log_df[log_df['page']=='NextSong']"
   ]
  },
  {
   "cell_type": "code",
   "execution_count": 12,
   "metadata": {},
   "outputs": [],
   "source": [
    "filusercols = [\"userId\",\"firstName\",\"lastName\",\"gender\",\"level\"]"
   ]
  },
  {
   "cell_type": "code",
   "execution_count": 13,
   "metadata": {},
   "outputs": [],
   "source": [
    "users_table = log_df[filusercols].dropDuplicates()"
   ]
  },
  {
   "cell_type": "code",
   "execution_count": null,
   "metadata": {},
   "outputs": [],
   "source": [
    "users_table.createOrReplaceTempView('users')"
   ]
  },
  {
   "cell_type": "code",
   "execution_count": null,
   "metadata": {},
   "outputs": [],
   "source": [
    "users_table = users_table.write.parquet(\"spark-warehouse/users/\")"
   ]
  },
  {
   "cell_type": "code",
   "execution_count": 14,
   "metadata": {},
   "outputs": [],
   "source": [
    "get_timestamp = udf(lambda x: datetime.datetime.fromtimestamp(x/1000.0).strftime('%Y-%m-%d %H:%M:%S'))"
   ]
  },
  {
   "cell_type": "code",
   "execution_count": 15,
   "metadata": {},
   "outputs": [],
   "source": [
    "log_df = log_df.withColumn('start_time',to_timestamp(get_timestamp(log_df.ts)))\\\n",
    "       .withColumn('hour',hour(to_timestamp(get_timestamp(log_df.ts))))\\\n",
    "       .withColumn('day',dayofmonth(to_timestamp(get_timestamp(log_df.ts))))\\\n",
    "       .withColumn('week',weekofyear(to_timestamp(get_timestamp(log_df.ts))))\\\n",
    "       .withColumn('month',month(to_timestamp(get_timestamp(log_df.ts))))\\\n",
    "       .withColumn('year',year(to_timestamp(get_timestamp(log_df.ts))))\\\n",
    "       .withColumn('weekday',dayofweek(to_timestamp(get_timestamp(log_df.ts))))"
   ]
  },
  {
   "cell_type": "code",
   "execution_count": 16,
   "metadata": {},
   "outputs": [],
   "source": [
    "time_table = log_df[['start_time','hour','day','week','month','year','weekday']].dropDuplicates()"
   ]
  },
  {
   "cell_type": "code",
   "execution_count": null,
   "metadata": {},
   "outputs": [],
   "source": [
    "time_table.createOrReplaceTempView('time')"
   ]
  },
  {
   "cell_type": "code",
   "execution_count": null,
   "metadata": {},
   "outputs": [],
   "source": [
    "time_table = time_table.write.partitionBy(\"year\",\"month\").parquet((\"spark-warehouse/time/\"))"
   ]
  },
  {
   "cell_type": "code",
   "execution_count": 17,
   "metadata": {},
   "outputs": [],
   "source": [
    "songplay_df = log_df.join(song_df,(log_df.song == song_df.title)&(log_df.artist == song_df.artist_name)&(log_df.length == song_df.duration)&(log_df.page == 'NextSong'),\"inner\")"
   ]
  },
  {
   "cell_type": "code",
   "execution_count": 18,
   "metadata": {},
   "outputs": [],
   "source": [
    "songplay_df = songplay_df.withColumn('Auto_Increment',lit(0))\\\n",
    "                        .withColumn('start_time',to_timestamp(get_timestamp(songplay_df.ts)))\\\n",
    "                        .withColumn('user_id',songplay_df.userId)\\\n",
    "                        .withColumn('level',songplay_df.level)\\\n",
    "                        .withColumn('song_id',songplay_df.song_id)\\\n",
    "                        .withColumn('artist_id',songplay_df.artist_id)\\\n",
    "                        .withColumn('session_id',songplay_df.sessionId)\\\n",
    "                        .withColumn('location',songplay_df.location)\\\n",
    "                        .withColumn('userAgent',songplay_df.userAgent)\\\n",
    "                        .withColumn('songplays_month',month(to_timestamp(get_timestamp(songplay_df.ts))))\\\n",
    "                        .withColumn('songplays_year',year(to_timestamp(get_timestamp(songplay_df.ts))))"
   ]
  },
  {
   "cell_type": "code",
   "execution_count": 19,
   "metadata": {},
   "outputs": [],
   "source": [
    "songplay_df=songplay_df.withColumn('songplay_id',row_number().over(Window.partitionBy(songplay_df.Auto_Increment).orderBy(songplay_df.user_id)))\\\n",
    "                        .withColumn('start_time',to_timestamp(get_timestamp(songplay_df.ts)))\\\n",
    "                        .withColumn('user_id',songplay_df.userId)\\\n",
    "                        .withColumn('level',songplay_df.level)\\\n",
    "                        .withColumn('song_id',songplay_df.song_id)\\\n",
    "                        .withColumn('artist_id',songplay_df.artist_id)\\\n",
    "                        .withColumn('session_id',songplay_df.sessionId)\\\n",
    "                        .withColumn('location',songplay_df.location)\\\n",
    "                        .withColumn('userAgent',songplay_df.userAgent)\\\n",
    "                        .withColumn('songplays_month',month(to_timestamp(get_timestamp(songplay_df.ts))))\\\n",
    "                        .withColumn('songplays_year',year(to_timestamp(get_timestamp(songplay_df.ts))))"
   ]
  },
  {
   "cell_type": "code",
   "execution_count": 20,
   "metadata": {},
   "outputs": [],
   "source": [
    "songplays_table = songplay_df[['songplay_id','start_time','user_id','level','song_id','artist_id',\\\n",
    "                               'session_id','location','userAgent','songplays_month','songplays_year']].dropDuplicates()"
   ]
  },
  {
   "cell_type": "code",
   "execution_count": 22,
   "metadata": {},
   "outputs": [],
   "source": [
    "songplays_table.createOrReplaceTempView('songplays')"
   ]
  },
  {
   "cell_type": "code",
   "execution_count": 23,
   "metadata": {},
   "outputs": [
    {
     "name": "stdout",
     "output_type": "stream",
     "text": [
      "+-----------+-------------------+-------+-----+------------------+------------------+----------+--------------------+--------------------+---------------+--------------+\n",
      "|songplay_id|         start_time|user_id|level|           song_id|         artist_id|session_id|            location|           userAgent|songplays_month|songplays_year|\n",
      "+-----------+-------------------+-------+-----+------------------+------------------+----------+--------------------+--------------------+---------------+--------------+\n",
      "|          1|2018-11-21 21:56:47|     15| paid|SOZCTXZ12AB0182364|AR5KOSW1187FB35FF4|       818|Chicago-Napervill...|\"Mozilla/5.0 (X11...|             11|          2018|\n",
      "+-----------+-------------------+-------+-----+------------------+------------------+----------+--------------------+--------------------+---------------+--------------+\n",
      "\n"
     ]
    }
   ],
   "source": [
    "spark.sql('select * from songplays').show()"
   ]
  },
  {
   "cell_type": "code",
   "execution_count": 24,
   "metadata": {},
   "outputs": [],
   "source": [
    "songplays_table = songplays_table.write.partitionBy(\"songplays_year\",\"songplays_month\").parquet(\"spark-warehouse/songplays/\")"
   ]
  },
  {
   "cell_type": "code",
   "execution_count": null,
   "metadata": {},
   "outputs": [],
   "source": []
  }
 ],
 "metadata": {
  "kernelspec": {
   "display_name": "Python 3",
   "language": "python",
   "name": "python3"
  },
  "language_info": {
   "codemirror_mode": {
    "name": "ipython",
    "version": 3
   },
   "file_extension": ".py",
   "mimetype": "text/x-python",
   "name": "python",
   "nbconvert_exporter": "python",
   "pygments_lexer": "ipython3",
   "version": "3.6.3"
  }
 },
 "nbformat": 4,
 "nbformat_minor": 2
}
