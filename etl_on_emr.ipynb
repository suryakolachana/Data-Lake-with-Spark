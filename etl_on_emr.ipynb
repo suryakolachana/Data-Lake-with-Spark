{
 "cells": [
  {
   "cell_type": "code",
   "execution_count": null,
   "metadata": {},
   "outputs": [],
   "source": [
    "%%spark"
   ]
  },
  {
   "cell_type": "code",
   "execution_count": 2,
   "metadata": {},
   "outputs": [
    {
     "data": {
      "application/vnd.jupyter.widget-view+json": {
       "model_id": "d620f251320b4832a294d8d7b0a89533",
       "version_major": 2,
       "version_minor": 0
      },
      "text/plain": [
       "VBox()"
      ]
     },
     "metadata": {},
     "output_type": "display_data"
    }
   ],
   "source": [
    "song_df = spark.read.json(\"s3a://udacity-dend/song_data/*/*/*/*.json\")"
   ]
  },
  {
   "cell_type": "code",
   "execution_count": null,
   "metadata": {},
   "outputs": [],
   "source": [
    "song_df.count()"
   ]
  },
  {
   "cell_type": "code",
   "execution_count": 3,
   "metadata": {},
   "outputs": [
    {
     "data": {
      "application/vnd.jupyter.widget-view+json": {
       "model_id": "cf54342e16ef4c12a9c83c7397d2963d",
       "version_major": 2,
       "version_minor": 0
      },
      "text/plain": [
       "VBox()"
      ]
     },
     "metadata": {},
     "output_type": "display_data"
    },
    {
     "name": "stdout",
     "output_type": "stream",
     "text": [
      "root\n",
      " |-- artist_id: string (nullable = true)\n",
      " |-- artist_latitude: double (nullable = true)\n",
      " |-- artist_location: string (nullable = true)\n",
      " |-- artist_longitude: double (nullable = true)\n",
      " |-- artist_name: string (nullable = true)\n",
      " |-- duration: double (nullable = true)\n",
      " |-- num_songs: long (nullable = true)\n",
      " |-- song_id: string (nullable = true)\n",
      " |-- title: string (nullable = true)\n",
      " |-- year: long (nullable = true)"
     ]
    }
   ],
   "source": [
    "song_df.printSchema()"
   ]
  },
  {
   "cell_type": "code",
   "execution_count": 4,
   "metadata": {},
   "outputs": [
    {
     "data": {
      "application/vnd.jupyter.widget-view+json": {
       "model_id": "2f0675455257402aa8e26717ff803c3c",
       "version_major": 2,
       "version_minor": 0
      },
      "text/plain": [
       "VBox()"
      ]
     },
     "metadata": {},
     "output_type": "display_data"
    }
   ],
   "source": [
    "filcols = [\"song_id\", \"title\", \"artist_id\", \"year\", \"duration\"]\n",
    "song_table = song_df[filcols]"
   ]
  },
  {
   "cell_type": "code",
   "execution_count": 5,
   "metadata": {},
   "outputs": [
    {
     "data": {
      "application/vnd.jupyter.widget-view+json": {
       "model_id": "c3e4869e06714a2f8ac4cf9eb61cb02d",
       "version_major": 2,
       "version_minor": 0
      },
      "text/plain": [
       "VBox()"
      ]
     },
     "metadata": {},
     "output_type": "display_data"
    }
   ],
   "source": [
    "#song_table.write.partitionBy(\"year\",\"artist_id\").parquet(\"s3://sparkify-songs-data/songstable/\")"
   ]
  },
  {
   "cell_type": "code",
   "execution_count": 6,
   "metadata": {},
   "outputs": [
    {
     "data": {
      "application/vnd.jupyter.widget-view+json": {
       "model_id": "495b89279e254280834e4b08c65c17fa",
       "version_major": 2,
       "version_minor": 0
      },
      "text/plain": [
       "VBox()"
      ]
     },
     "metadata": {},
     "output_type": "display_data"
    }
   ],
   "source": [
    "song_data = song_df[filcols].dropDuplicates()"
   ]
  },
  {
   "cell_type": "code",
   "execution_count": null,
   "metadata": {},
   "outputs": [],
   "source": [
    "song_data.createOrReplaceTempView(\"Songs\")"
   ]
  },
  {
   "cell_type": "code",
   "execution_count": null,
   "metadata": {},
   "outputs": [],
   "source": [
    "spark.sql(\"select count(*) from songs\").show()"
   ]
  },
  {
   "cell_type": "code",
   "execution_count": 7,
   "metadata": {},
   "outputs": [
    {
     "data": {
      "application/vnd.jupyter.widget-view+json": {
       "model_id": "1f9b9599664f4af2b5060be7ea0573b3",
       "version_major": 2,
       "version_minor": 0
      },
      "text/plain": [
       "VBox()"
      ]
     },
     "metadata": {},
     "output_type": "display_data"
    }
   ],
   "source": [
    "filartistcols = [\"artist_id\",\"artist_name\",\"artist_location\",\"artist_latitude\",\"artist_longitude\"]\n",
    "artist_data = song_df[filartistcols].dropDuplicates()\n",
    "#artist_data.write.parquet(\"s3://sparkify-songs-data/artisttable/\")"
   ]
  },
  {
   "cell_type": "code",
   "execution_count": null,
   "metadata": {},
   "outputs": [],
   "source": [
    "artist_data.createOrReplaceTempView(\"Artists\")"
   ]
  },
  {
   "cell_type": "code",
   "execution_count": null,
   "metadata": {},
   "outputs": [],
   "source": [
    "spark.sql(\"select count(*) from Artists\").show()"
   ]
  },
  {
   "cell_type": "code",
   "execution_count": 8,
   "metadata": {},
   "outputs": [
    {
     "data": {
      "application/vnd.jupyter.widget-view+json": {
       "model_id": "43eac122074e4afa8d7fa71710f725b3",
       "version_major": 2,
       "version_minor": 0
      },
      "text/plain": [
       "VBox()"
      ]
     },
     "metadata": {},
     "output_type": "display_data"
    }
   ],
   "source": [
    "log_df = spark.read.json(\"s3a://udacity-dend/log_data/2018/11/*.json\")\n",
    "#log_data = df.write.parquet(\"s3://sparkify-log-data/log_data/\")"
   ]
  },
  {
   "cell_type": "code",
   "execution_count": 9,
   "metadata": {},
   "outputs": [
    {
     "data": {
      "application/vnd.jupyter.widget-view+json": {
       "model_id": "b5c8141adc1e4938845e115ade1883ea",
       "version_major": 2,
       "version_minor": 0
      },
      "text/plain": [
       "VBox()"
      ]
     },
     "metadata": {},
     "output_type": "display_data"
    },
    {
     "name": "stdout",
     "output_type": "stream",
     "text": [
      "root\n",
      " |-- artist: string (nullable = true)\n",
      " |-- auth: string (nullable = true)\n",
      " |-- firstName: string (nullable = true)\n",
      " |-- gender: string (nullable = true)\n",
      " |-- itemInSession: long (nullable = true)\n",
      " |-- lastName: string (nullable = true)\n",
      " |-- length: double (nullable = true)\n",
      " |-- level: string (nullable = true)\n",
      " |-- location: string (nullable = true)\n",
      " |-- method: string (nullable = true)\n",
      " |-- page: string (nullable = true)\n",
      " |-- registration: double (nullable = true)\n",
      " |-- sessionId: long (nullable = true)\n",
      " |-- song: string (nullable = true)\n",
      " |-- status: long (nullable = true)\n",
      " |-- ts: long (nullable = true)\n",
      " |-- userAgent: string (nullable = true)\n",
      " |-- userId: string (nullable = true)"
     ]
    }
   ],
   "source": [
    "log_df.printSchema()"
   ]
  },
  {
   "cell_type": "code",
   "execution_count": null,
   "metadata": {},
   "outputs": [],
   "source": [
    "log_df.count()"
   ]
  },
  {
   "cell_type": "code",
   "execution_count": 10,
   "metadata": {},
   "outputs": [
    {
     "data": {
      "application/vnd.jupyter.widget-view+json": {
       "model_id": "030a81fe4387417888d0d2498cd042b6",
       "version_major": 2,
       "version_minor": 0
      },
      "text/plain": [
       "VBox()"
      ]
     },
     "metadata": {},
     "output_type": "display_data"
    }
   ],
   "source": [
    "#df = df.filter(\"page == 'NextSong'\").show()\n",
    "log_df = log_df[log_df['page']=='NextSong']"
   ]
  },
  {
   "cell_type": "code",
   "execution_count": 11,
   "metadata": {},
   "outputs": [
    {
     "data": {
      "application/vnd.jupyter.widget-view+json": {
       "model_id": "46d137fec21c4968823354c43416ae5f",
       "version_major": 2,
       "version_minor": 0
      },
      "text/plain": [
       "VBox()"
      ]
     },
     "metadata": {},
     "output_type": "display_data"
    }
   ],
   "source": [
    "filusercols = [\"userId\",\"firstName\",\"lastName\",\"gender\",\"level\"]\n",
    "#user_data = df[filusercols].dropDuplicates()\n",
    "#user_data.count()\n",
    "#user_data.createOrReplaceTempView(\"Users\")\n",
    "#spark.sql(\"select count(*) from Users\").show()"
   ]
  },
  {
   "cell_type": "code",
   "execution_count": 12,
   "metadata": {},
   "outputs": [
    {
     "data": {
      "application/vnd.jupyter.widget-view+json": {
       "model_id": "f9fbaf7fd61d4ed495d75644c1bd62d6",
       "version_major": 2,
       "version_minor": 0
      },
      "text/plain": [
       "VBox()"
      ]
     },
     "metadata": {},
     "output_type": "display_data"
    }
   ],
   "source": [
    "user_data = log_df[filusercols].dropDuplicates()"
   ]
  },
  {
   "cell_type": "code",
   "execution_count": null,
   "metadata": {},
   "outputs": [],
   "source": [
    "user_data.count()"
   ]
  },
  {
   "cell_type": "code",
   "execution_count": null,
   "metadata": {},
   "outputs": [],
   "source": [
    "user_data.createOrReplaceTempView(\"Users\")"
   ]
  },
  {
   "cell_type": "code",
   "execution_count": null,
   "metadata": {},
   "outputs": [],
   "source": [
    "#user_data.write.parquet(\"s3://sparkify-songs-data/usertable/\")"
   ]
  },
  {
   "cell_type": "code",
   "execution_count": 13,
   "metadata": {},
   "outputs": [
    {
     "data": {
      "application/vnd.jupyter.widget-view+json": {
       "model_id": "69f7d43cce814f51999ad806bea70eb0",
       "version_major": 2,
       "version_minor": 0
      },
      "text/plain": [
       "VBox()"
      ]
     },
     "metadata": {},
     "output_type": "display_data"
    }
   ],
   "source": [
    "from pyspark.sql.functions import udf,to_timestamp,hour,dayofmonth,weekofyear,month,year,dayofweek,date_format"
   ]
  },
  {
   "cell_type": "code",
   "execution_count": 14,
   "metadata": {},
   "outputs": [
    {
     "data": {
      "application/vnd.jupyter.widget-view+json": {
       "model_id": "5c744a49c14440879fc2fc18eb95c660",
       "version_major": 2,
       "version_minor": 0
      },
      "text/plain": [
       "VBox()"
      ]
     },
     "metadata": {},
     "output_type": "display_data"
    }
   ],
   "source": [
    "import datetime"
   ]
  },
  {
   "cell_type": "code",
   "execution_count": 15,
   "metadata": {},
   "outputs": [
    {
     "data": {
      "application/vnd.jupyter.widget-view+json": {
       "model_id": "2f50671c25cd4b70b9f27be5f7e837a4",
       "version_major": 2,
       "version_minor": 0
      },
      "text/plain": [
       "VBox()"
      ]
     },
     "metadata": {},
     "output_type": "display_data"
    }
   ],
   "source": [
    "get_timestamp = udf(lambda x: datetime.datetime.fromtimestamp(x/1000.0).strftime('%Y-%m-%d %H:%M:%S'))"
   ]
  },
  {
   "cell_type": "code",
   "execution_count": 16,
   "metadata": {},
   "outputs": [
    {
     "data": {
      "application/vnd.jupyter.widget-view+json": {
       "model_id": "e1de3ff2c7c6448db8f310b6e7570297",
       "version_major": 2,
       "version_minor": 0
      },
      "text/plain": [
       "VBox()"
      ]
     },
     "metadata": {},
     "output_type": "display_data"
    }
   ],
   "source": [
    "log_df = log_df.withColumn('start_time',to_timestamp(get_timestamp(log_df.ts)))\\\n",
    "       .withColumn('hour',hour(to_timestamp(get_timestamp(log_df.ts))))\\\n",
    "       .withColumn('day',dayofmonth(to_timestamp(get_timestamp(log_df.ts))))\\\n",
    "       .withColumn('week',weekofyear(to_timestamp(get_timestamp(log_df.ts))))\\\n",
    "       .withColumn('month',month(to_timestamp(get_timestamp(log_df.ts))))\\\n",
    "       .withColumn('year',year(to_timestamp(get_timestamp(log_df.ts))))\\\n",
    "       .withColumn('weekday',dayofweek(to_timestamp(get_timestamp(log_df.ts))))"
   ]
  },
  {
   "cell_type": "code",
   "execution_count": 17,
   "metadata": {},
   "outputs": [
    {
     "data": {
      "application/vnd.jupyter.widget-view+json": {
       "model_id": "ede5518afb3b494b96dab2b5849d5be8",
       "version_major": 2,
       "version_minor": 0
      },
      "text/plain": [
       "VBox()"
      ]
     },
     "metadata": {},
     "output_type": "display_data"
    }
   ],
   "source": [
    "time_table = log_df[['start_time','hour','day','week','month','year','weekday']].dropDuplicates()"
   ]
  },
  {
   "cell_type": "code",
   "execution_count": null,
   "metadata": {},
   "outputs": [],
   "source": [
    "time_table.count()"
   ]
  },
  {
   "cell_type": "code",
   "execution_count": 18,
   "metadata": {},
   "outputs": [
    {
     "data": {
      "application/vnd.jupyter.widget-view+json": {
       "model_id": "ef331ba8fe884db9a9109bf897149969",
       "version_major": 2,
       "version_minor": 0
      },
      "text/plain": [
       "VBox()"
      ]
     },
     "metadata": {},
     "output_type": "display_data"
    }
   ],
   "source": [
    "#time_table.write.partitionBy(\"year\",\"month\").parquet((\"s3://sparkify-songs-data/timetable/\"))"
   ]
  },
  {
   "cell_type": "code",
   "execution_count": null,
   "metadata": {},
   "outputs": [],
   "source": [
    "spark.sql('select * from songs LIMIT 20')"
   ]
  },
  {
   "cell_type": "code",
   "execution_count": 19,
   "metadata": {},
   "outputs": [
    {
     "data": {
      "application/vnd.jupyter.widget-view+json": {
       "model_id": "75b9f2a2ff3b4210836135af00ca0472",
       "version_major": 2,
       "version_minor": 0
      },
      "text/plain": [
       "VBox()"
      ]
     },
     "metadata": {},
     "output_type": "display_data"
    }
   ],
   "source": [
    "songplay_df = log_df.join(song_df,(log_df.song == song_df.title)&(log_df.artist == song_df.artist_name)&(log_df.length == song_df.duration)&(log_df.page == 'NextSong'),\"inner\")"
   ]
  },
  {
   "cell_type": "code",
   "execution_count": null,
   "metadata": {},
   "outputs": [],
   "source": [
    "songplay_df.count()"
   ]
  },
  {
   "cell_type": "code",
   "execution_count": null,
   "metadata": {},
   "outputs": [],
   "source": [
    "songplay_df.show()"
   ]
  },
  {
   "cell_type": "code",
   "execution_count": 20,
   "metadata": {},
   "outputs": [
    {
     "data": {
      "application/vnd.jupyter.widget-view+json": {
       "model_id": "2fd129bda77046adbfdca8a5f6dfd4fc",
       "version_major": 2,
       "version_minor": 0
      },
      "text/plain": [
       "VBox()"
      ]
     },
     "metadata": {},
     "output_type": "display_data"
    }
   ],
   "source": [
    "filsongplaycols = songplay_df[['ts','userId','level','song_id','artist_id','sessionId','location','userAgent']].dropDuplicates()"
   ]
  },
  {
   "cell_type": "code",
   "execution_count": 21,
   "metadata": {},
   "outputs": [
    {
     "data": {
      "application/vnd.jupyter.widget-view+json": {
       "model_id": "651b3be56a2d4ee39811846c9ef3bfa0",
       "version_major": 2,
       "version_minor": 0
      },
      "text/plain": [
       "VBox()"
      ]
     },
     "metadata": {},
     "output_type": "display_data"
    },
    {
     "name": "stdout",
     "output_type": "stream",
     "text": [
      "+-------------+------+-----+------------------+------------------+---------+--------------------+--------------------+\n",
      "|           ts|userId|level|           song_id|         artist_id|sessionId|            location|           userAgent|\n",
      "+-------------+------+-----+------------------+------------------+---------+--------------------+--------------------+\n",
      "|1543514154796|    82| paid|SOBONKR12A58A7A7E0|AR5E44Z1187B9A1D74|     1017|Atlanta-Sandy Spr...|\"Mozilla/5.0 (Mac...|\n",
      "|1542237247796|    49| paid|SOWGZFG12A8151AF41|ARC8CQZ1187B98DECA|      576|San Francisco-Oak...|Mozilla/5.0 (Wind...|\n",
      "|1543009329796|    85| paid|SONEGWF12A8C133022|ARI75KH1187FB4C77C|      891|       Red Bluff, CA|\"Mozilla/5.0 (Mac...|\n",
      "|1542043597796|    73| paid|SOCJWPI12A8C13D357|ARRB3GQ1187FB52D14|      294|Tampa-St. Petersb...|\"Mozilla/5.0 (Mac...|\n",
      "|1542496421796|    70| paid|SOKUCXB12A6D4FAC0C|ARHO39G1187FB4E31B|      113|San Antonio-New B...|Mozilla/5.0 (Wind...|\n",
      "|1543596208796|    33| free|SOKSREW12A6D4F926D|ARC4W081187B9ACDBD|     1026|          Eugene, OR|\"Mozilla/5.0 (Win...|\n",
      "|1543515684796|    49| paid|SOCIGMX12A8C144150|ARQOBT71187FB4CCCA|     1041|San Francisco-Oak...|Mozilla/5.0 (Wind...|\n",
      "|1542115781796|    29| paid|SOIOESO12A6D4F621D|ARVLXWP1187FB5B94A|      486|Atlanta-Sandy Spr...|\"Mozilla/5.0 (Mac...|\n",
      "|1543560882796|    49| paid|SOIZLVK12AC468C3BA|ARXQUKV11F50C502B1|     1079|San Francisco-Oak...|Mozilla/5.0 (Wind...|\n",
      "|1543489411796|    78| free|SOROSRY12A6D4F7B64|AR0WBBL1187FB4677D|      931|Indianapolis-Carm...|Mozilla/5.0 (Wind...|\n",
      "|1541535131796|    97| paid|SODCQYZ12A6D4F9B26|ARYJ7KN1187B98CC73|      293|Lansing-East Lans...|\"Mozilla/5.0 (X11...|\n",
      "|1543599084796|    49| paid|SODVXIB12AF72A37F3|AR3FYKL1187FB44945|     1114|San Francisco-Oak...|Mozilla/5.0 (Wind...|\n",
      "|1543125977796|    49| paid|SONHWUN12AC468C014|ARJIG5P1187B98D9DE|      916|San Francisco-Oak...|Mozilla/5.0 (Wind...|\n",
      "|1542119097796|    29| paid|SOQHFWA12AAA8C6662|ARWAQTR1187FB38810|      486|Atlanta-Sandy Spr...|\"Mozilla/5.0 (Mac...|\n",
      "|1543448083796|    24| paid|SOHRHCN12AB018B0F4|ARHQBRZ1187FB3BDA2|      984|Lake Havasu City-...|\"Mozilla/5.0 (Win...|\n",
      "|1543507764796|    49| paid|SOBONKR12A58A7A7E0|AR5E44Z1187B9A1D74|     1041|San Francisco-Oak...|Mozilla/5.0 (Wind...|\n",
      "|1543585957796|    49| paid|SOBONKR12A58A7A7E0|AR5E44Z1187B9A1D74|     1096|San Francisco-Oak...|Mozilla/5.0 (Wind...|\n",
      "|1543452014796|    24| paid|SOBONKR12A58A7A7E0|AR5E44Z1187B9A1D74|      984|Lake Havasu City-...|\"Mozilla/5.0 (Win...|\n",
      "|1543430217796|    88| paid|SONHWUN12AC468C014|ARJIG5P1187B98D9DE|      999|Sacramento--Rosev...|\"Mozilla/5.0 (Mac...|\n",
      "|1542469281796|    73| paid|SONQLSC12AB01816E0|ARQFJDL1187B98BF86|      518|Tampa-St. Petersb...|\"Mozilla/5.0 (Mac...|\n",
      "+-------------+------+-----+------------------+------------------+---------+--------------------+--------------------+\n",
      "only showing top 20 rows"
     ]
    }
   ],
   "source": [
    "filsongplaycols.show()"
   ]
  },
  {
   "cell_type": "code",
   "execution_count": 23,
   "metadata": {},
   "outputs": [
    {
     "data": {
      "application/vnd.jupyter.widget-view+json": {
       "model_id": "8bfb99f740ec4514b43a8d4067c03ab4",
       "version_major": 2,
       "version_minor": 0
      },
      "text/plain": [
       "VBox()"
      ]
     },
     "metadata": {},
     "output_type": "display_data"
    }
   ],
   "source": [
    "from pyspark.sql.functions import *\n",
    "from pyspark.sql import Window\n",
    "from pyspark.sql.functions import row_number"
   ]
  },
  {
   "cell_type": "code",
   "execution_count": 24,
   "metadata": {},
   "outputs": [
    {
     "data": {
      "application/vnd.jupyter.widget-view+json": {
       "model_id": "bc73c420cefb4ab98d019441fe266939",
       "version_major": 2,
       "version_minor": 0
      },
      "text/plain": [
       "VBox()"
      ]
     },
     "metadata": {},
     "output_type": "display_data"
    }
   ],
   "source": [
    "songplay_df = songplay_df.withColumn('test',lit(0))\\\n",
    "                        .withColumn('start_time',to_timestamp(get_timestamp(songplay_df.ts)))\\\n",
    "                        .withColumn('user_id',songplay_df.userId)\\\n",
    "                        .withColumn('level',songplay_df.level)\\\n",
    "                        .withColumn('song_id',songplay_df.song_id)\\\n",
    "                        .withColumn('artist_id',songplay_df.artist_id)\\\n",
    "                        .withColumn('session_id',songplay_df.sessionId)\\\n",
    "                        .withColumn('location',songplay_df.location)\\\n",
    "                        .withColumn('month',month(to_timestamp(get_timestamp(songplay_df.ts))))\\\n",
    "                        .withColumn('year',year(to_timestamp(get_timestamp(songplay_df.ts))))"
   ]
  },
  {
   "cell_type": "code",
   "execution_count": 28,
   "metadata": {},
   "outputs": [
    {
     "data": {
      "application/vnd.jupyter.widget-view+json": {
       "model_id": "d8903bd2c0664374a24d9f52e07f2bb0",
       "version_major": 2,
       "version_minor": 0
      },
      "text/plain": [
       "VBox()"
      ]
     },
     "metadata": {},
     "output_type": "display_data"
    }
   ],
   "source": [
    "songplay_df = songplay_df.withColumn('songplay_id',row_number().over(Window.partitionBy(songplay_df.test).orderBy(songplay_df.user_id)))\\\n",
    "                        .withColumn('start_time',to_timestamp(get_timestamp(songplay_df.ts)))\\\n",
    "                        .withColumn('user_id',songplay_df.userId)\\\n",
    "                        .withColumn('level',songplay_df.level)\\\n",
    "                        .withColumn('song_id',songplay_df.song_id)\\\n",
    "                        .withColumn('artist_id',songplay_df.artist_id)\\\n",
    "                        .withColumn('session_id',songplay_df.sessionId)\\\n",
    "                        .withColumn('location',songplay_df.location)\\\n",
    "                        .withColumn('month',month(to_timestamp(get_timestamp(songplay_df.ts))))\\\n",
    "                        .withColumn('year',year(to_timestamp(get_timestamp(songplay_df.ts))))"
   ]
  },
  {
   "cell_type": "code",
   "execution_count": 29,
   "metadata": {},
   "outputs": [
    {
     "data": {
      "application/vnd.jupyter.widget-view+json": {
       "model_id": "df177a22c6c641e7bb8f526a4b63137e",
       "version_major": 2,
       "version_minor": 0
      },
      "text/plain": [
       "VBox()"
      ]
     },
     "metadata": {},
     "output_type": "display_data"
    }
   ],
   "source": [
    "filsongplaycols = songplay_df[['test','songplay_id','start_time','user_id','level','song_id','artist_id','session_id','location']].dropDuplicates()"
   ]
  },
  {
   "cell_type": "code",
   "execution_count": null,
   "metadata": {},
   "outputs": [],
   "source": [
    "filsongplaycols.count()"
   ]
  },
  {
   "cell_type": "code",
   "execution_count": 31,
   "metadata": {
    "scrolled": true
   },
   "outputs": [
    {
     "data": {
      "application/vnd.jupyter.widget-view+json": {
       "model_id": "78c72d0c073f492ab25c49dce526bfbb",
       "version_major": 2,
       "version_minor": 0
      },
      "text/plain": [
       "VBox()"
      ]
     },
     "metadata": {},
     "output_type": "display_data"
    },
    {
     "name": "stdout",
     "output_type": "stream",
     "text": [
      "+-----------+-------------------+-------+-----+------------------+------------------+----------+--------------------+\n",
      "|songplay_id|         start_time|user_id|level|           song_id|         artist_id|session_id|            location|\n",
      "+-----------+-------------------+-------+-----+------------------+------------------+----------+--------------------+\n",
      "|          1|2018-11-02 17:31:45|     10| free|SOHTKMO12AB01843B0|AR5EYTL1187B98EDA0|       182|Washington-Arling...|\n",
      "|          2|2018-11-20 15:50:01|    100| free|SOHTKMO12AB01843B0|AR5EYTL1187B98EDA0|       595|New York-Newark-J...|\n",
      "|          3|2018-11-07 07:58:28|    100| free|SODTPBM12A8C1339D7|AR4OH581187B9B7157|       301|New York-Newark-J...|\n",
      "|          4|2018-11-14 20:36:44|    101| free|SOBONKR12A58A7A7E0|AR5E44Z1187B9A1D74|       603|New Orleans-Metai...|\n",
      "|          5|2018-11-22 13:21:20|    101| free|SOUHTWB12A8C13BA4D|AR96LYR1187B9ABABD|       790|New Orleans-Metai...|\n",
      "|          6|2018-11-12 21:22:01|     12| free|SOARUPP12AB01842E0|ARD46C811C8A414F3F|       371|New York-Newark-J...|\n",
      "|          7|2018-11-06 08:49:19|     12| free|SOBJDDA12A6BD53159|ARCS4GZ1187FB469EB|       300|New York-Newark-J...|\n",
      "|          8|2018-11-03 17:59:01|     15| paid|SOHTKMO12AB01843B0|AR5EYTL1187B98EDA0|       199|Chicago-Napervill...|\n",
      "|          9|2018-11-07 15:41:10|     15| paid|SOWEUOO12A6D4F6D0C|ARQUMH41187B9AF699|       221|Chicago-Napervill...|\n",
      "|         10|2018-11-26 11:35:51|     15| paid|SOLLOSO12AB0184A7A|ARVXU2X1187B9AE6D8|       834|Chicago-Napervill...|\n",
      "|         11|2018-11-07 18:11:11|     15| paid|SODTRKW12A6D4F9A51|AR71MIY1187B9BA0C3|       221|Chicago-Napervill...|\n",
      "|         12|2018-11-21 21:56:47|     15| paid|SOZCTXZ12AB0182364|AR5KOSW1187FB35FF4|       818|Chicago-Napervill...|\n",
      "|         13|2018-11-13 18:39:37|     15| paid|SOVAEBW12AB0182CE6|AR756JL1187FB3D3A9|       417|Chicago-Napervill...|\n",
      "|         14|2018-11-20 07:01:13|     15| paid|SOSDYAS12AB0180457|ARA3I0J1187FB57869|       716|Chicago-Napervill...|\n",
      "|         15|2018-11-07 14:34:37|     15| paid|SOULTKQ12AB018A183|ARKQQZA12086C116FC|       221|Chicago-Napervill...|\n",
      "|         16|2018-11-20 08:05:30|     15| paid|SOMCKUB12AB018BD24|ARL1MEI1187B9AD98B|       716|Chicago-Napervill...|\n",
      "|         17|2018-11-22 01:59:04|     15| paid|SOBONKR12A58A7A7E0|AR5E44Z1187B9A1D74|       818|Chicago-Napervill...|\n",
      "|         18|2018-11-21 12:10:49|     15| paid|SOBONKR12A58A7A7E0|AR5E44Z1187B9A1D74|       764|Chicago-Napervill...|\n",
      "|         19|2018-11-21 09:36:21|     15| paid|SOBONKR12A58A7A7E0|AR5E44Z1187B9A1D74|       764|Chicago-Napervill...|\n",
      "|         20|2018-11-22 01:34:51|     15| paid|SOIQRVH12AF729EE08|AR9IGU51187FB40D6B|       818|Chicago-Napervill...|\n",
      "+-----------+-------------------+-------+-----+------------------+------------------+----------+--------------------+\n",
      "only showing top 20 rows"
     ]
    }
   ],
   "source": [
    "filsongplaycols.select(['songplay_id','start_time','user_id','level','song_id','artist_id','session_id','location']).sort('songplay_id').show()"
   ]
  },
  {
   "cell_type": "code",
   "execution_count": null,
   "metadata": {},
   "outputs": [],
   "source": []
  }
 ],
 "metadata": {
  "kernelspec": {
   "display_name": "Python 3",
   "language": "python",
   "name": "python3"
  },
  "language_info": {
   "codemirror_mode": {
    "name": "ipython",
    "version": 3
   },
   "file_extension": ".py",
   "mimetype": "text/x-python",
   "name": "python",
   "nbconvert_exporter": "python",
   "pygments_lexer": "ipython3",
   "version": "3.6.3"
  }
 },
 "nbformat": 4,
 "nbformat_minor": 2
}
